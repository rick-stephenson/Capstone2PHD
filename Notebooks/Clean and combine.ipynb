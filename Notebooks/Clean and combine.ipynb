{
 "cells": [
  {
   "cell_type": "code",
   "execution_count": 1,
   "id": "apparent-notice",
   "metadata": {},
   "outputs": [],
   "source": [
    "import pandas as pd\n",
    "import numpy as np"
   ]
  },
  {
   "cell_type": "code",
   "execution_count": 2,
   "id": "configured-rotation",
   "metadata": {
    "scrolled": true
   },
   "outputs": [
    {
     "data": {
      "text/html": [
       "<div>\n",
       "<style scoped>\n",
       "    .dataframe tbody tr th:only-of-type {\n",
       "        vertical-align: middle;\n",
       "    }\n",
       "\n",
       "    .dataframe tbody tr th {\n",
       "        vertical-align: top;\n",
       "    }\n",
       "\n",
       "    .dataframe thead th {\n",
       "        text-align: right;\n",
       "    }\n",
       "</style>\n",
       "<table border=\"1\" class=\"dataframe\">\n",
       "  <thead>\n",
       "    <tr style=\"text-align: right;\">\n",
       "      <th></th>\n",
       "      <th>All full-time employed</th>\n",
       "      <th>Computer applications</th>\n",
       "      <th>Management, sales, or administration</th>\n",
       "      <th>Professional services</th>\n",
       "      <th>Any R&amp;D</th>\n",
       "      <th>Teaching</th>\n",
       "      <th>Other</th>\n",
       "    </tr>\n",
       "    <tr>\n",
       "      <th>Field of study</th>\n",
       "      <th></th>\n",
       "      <th></th>\n",
       "      <th></th>\n",
       "      <th></th>\n",
       "      <th></th>\n",
       "      <th></th>\n",
       "      <th></th>\n",
       "    </tr>\n",
       "  </thead>\n",
       "  <tbody>\n",
       "    <tr>\n",
       "      <th>All fields</th>\n",
       "      <td>110000</td>\n",
       "      <td>129000</td>\n",
       "      <td>136000</td>\n",
       "      <td>115000</td>\n",
       "      <td>115000</td>\n",
       "      <td>79000</td>\n",
       "      <td>106000</td>\n",
       "    </tr>\n",
       "    <tr>\n",
       "      <th>Science</th>\n",
       "      <td>104000</td>\n",
       "      <td>126000</td>\n",
       "      <td>130000</td>\n",
       "      <td>110000</td>\n",
       "      <td>110000</td>\n",
       "      <td>76000</td>\n",
       "      <td>99000</td>\n",
       "    </tr>\n",
       "    <tr>\n",
       "      <th>Biological, agricultural, and environmental life sciences</th>\n",
       "      <td>100000</td>\n",
       "      <td>105000</td>\n",
       "      <td>125000</td>\n",
       "      <td>152000</td>\n",
       "      <td>100000</td>\n",
       "      <td>75000</td>\n",
       "      <td>99000</td>\n",
       "    </tr>\n",
       "    <tr>\n",
       "      <th>Agricultural and food sciences</th>\n",
       "      <td>106000</td>\n",
       "      <td>100000</td>\n",
       "      <td>135000</td>\n",
       "      <td>120000</td>\n",
       "      <td>101000</td>\n",
       "      <td>84000</td>\n",
       "      <td>88000</td>\n",
       "    </tr>\n",
       "    <tr>\n",
       "      <th>Biochemistry and biophysics</th>\n",
       "      <td>109000</td>\n",
       "      <td>116000</td>\n",
       "      <td>135000</td>\n",
       "      <td>159000</td>\n",
       "      <td>105000</td>\n",
       "      <td>69000</td>\n",
       "      <td>110000</td>\n",
       "    </tr>\n",
       "  </tbody>\n",
       "</table>\n",
       "</div>"
      ],
      "text/plain": [
       "                                                    All full-time employed  \\\n",
       "Field of study                                                               \n",
       "All fields                                                          110000   \n",
       "Science                                                             104000   \n",
       "Biological, agricultural, and environmental lif...                  100000   \n",
       "Agricultural and food sciences                                      106000   \n",
       "Biochemistry and biophysics                                         109000   \n",
       "\n",
       "                                                   Computer applications  \\\n",
       "Field of study                                                             \n",
       "All fields                                                        129000   \n",
       "Science                                                           126000   \n",
       "Biological, agricultural, and environmental lif...                105000   \n",
       "Agricultural and food sciences                                    100000   \n",
       "Biochemistry and biophysics                                       116000   \n",
       "\n",
       "                                                    Management, sales, or administration  \\\n",
       "Field of study                                                                             \n",
       "All fields                                                                        136000   \n",
       "Science                                                                           130000   \n",
       "Biological, agricultural, and environmental lif...                                125000   \n",
       "Agricultural and food sciences                                                    135000   \n",
       "Biochemistry and biophysics                                                       135000   \n",
       "\n",
       "                                                   Professional services  \\\n",
       "Field of study                                                             \n",
       "All fields                                                        115000   \n",
       "Science                                                           110000   \n",
       "Biological, agricultural, and environmental lif...                152000   \n",
       "Agricultural and food sciences                                    120000   \n",
       "Biochemistry and biophysics                                       159000   \n",
       "\n",
       "                                                    Any R&D  Teaching   Other  \n",
       "Field of study                                                                 \n",
       "All fields                                           115000     79000  106000  \n",
       "Science                                              110000     76000   99000  \n",
       "Biological, agricultural, and environmental lif...   100000     75000   99000  \n",
       "Agricultural and food sciences                       101000     84000   88000  \n",
       "Biochemistry and biophysics                          105000     69000  110000  "
      ]
     },
     "execution_count": 2,
     "metadata": {},
     "output_type": "execute_result"
    }
   ],
   "source": [
    "#first clean the salaries Data\n",
    "salariesDF = pd.read_csv('..\\data\\inProcess\\salaries.csv')\n",
    "salariesDF.set_index('Field of study', inplace = True)\n",
    "salariesDF.head()"
   ]
  },
  {
   "cell_type": "code",
   "execution_count": 3,
   "id": "acquired-championship",
   "metadata": {},
   "outputs": [
    {
     "name": "stdout",
     "output_type": "stream",
     "text": [
      "<class 'pandas.core.frame.DataFrame'>\n",
      "Index: 32 entries, All fields to Health\n",
      "Data columns (total 7 columns):\n",
      " #   Column                                Non-Null Count  Dtype \n",
      "---  ------                                --------------  ----- \n",
      " 0   All full-time employed                32 non-null     int64 \n",
      " 1   Computer applications                 32 non-null     object\n",
      " 2   Management, sales, or administration  32 non-null     int64 \n",
      " 3   Professional services                 32 non-null     object\n",
      " 4   Any R&D                               32 non-null     int64 \n",
      " 5   Teaching                              32 non-null     int64 \n",
      " 6   Other                                 32 non-null     object\n",
      "dtypes: int64(4), object(3)\n",
      "memory usage: 2.0+ KB\n"
     ]
    }
   ],
   "source": [
    "salariesDF.info()"
   ]
  },
  {
   "cell_type": "code",
   "execution_count": 4,
   "id": "deadly-duplicate",
   "metadata": {},
   "outputs": [
    {
     "name": "stdout",
     "output_type": "stream",
     "text": [
      "2\n",
      "Field of study\n",
      "Zoology                             D\n",
      "Political science and government    D\n",
      "Name: Computer applications, dtype: object\n"
     ]
    }
   ],
   "source": [
    "bad = pd.to_numeric(salariesDF['Computer applications'], errors='coerce').isna()\n",
    "print(bad.sum())\n",
    "print(salariesDF['Computer applications'][bad])"
   ]
  },
  {
   "cell_type": "code",
   "execution_count": 5,
   "id": "large-killing",
   "metadata": {},
   "outputs": [
    {
     "name": "stdout",
     "output_type": "stream",
     "text": [
      "2\n",
      "Field of study\n",
      "Astronomy and astrophysics                                D\n",
      "Aerospace, aeronautical, and astronautical engineering    D\n",
      "Name: Professional services, dtype: object\n"
     ]
    }
   ],
   "source": [
    "bad = pd.to_numeric(salariesDF['Professional services'], errors='coerce').isna()\n",
    "print(bad.sum())\n",
    "print(salariesDF['Professional services'][bad])"
   ]
  },
  {
   "cell_type": "code",
   "execution_count": 6,
   "id": "aggregate-instruction",
   "metadata": {},
   "outputs": [
    {
     "name": "stdout",
     "output_type": "stream",
     "text": [
      "1\n",
      "Field of study\n",
      "Aerospace, aeronautical, and astronautical engineering    D\n",
      "Name: Other, dtype: object\n"
     ]
    }
   ],
   "source": [
    "bad = pd.to_numeric(salariesDF['Other'], errors='coerce').isna()\n",
    "print(bad.sum())\n",
    "print(salariesDF['Other'][bad])"
   ]
  },
  {
   "cell_type": "markdown",
   "id": "familiar-protocol",
   "metadata": {},
   "source": [
    "According to footnotes, \"D\" stands for \"suppressed to avoid disclosure of confidential information.\"\n",
    "\n",
    "Looking at data on the web where it was downloaded from, some rows are summaries of subsequent rows. E.g., there's is a \"Biological, agricultural, and environmental life sciences\" is broken down into the next rows as \"Agricultural and food sciences\" for a total of 7 categories, each of which is broken into more categories. These indents are on the web, but lost when the data are downloaded as Excel files.\n",
    "\n",
    "Because the \"D\" fields are probably small samples, we can replace the \"D\" with the category value."
   ]
  },
  {
   "cell_type": "code",
   "execution_count": 8,
   "id": "important-fairy",
   "metadata": {},
   "outputs": [
    {
     "data": {
      "text/plain": [
       "Index(['All fields', 'Science',\n",
       "       'Biological, agricultural, and environmental life sciences',\n",
       "       'Agricultural and food sciences', 'Biochemistry and biophysics',\n",
       "       'Cell, cellular biology, and molecular biology',\n",
       "       'Microbiological sciences and immunology',\n",
       "       'Natural resources and conservation', 'Zoology',\n",
       "       'Other biological sciences', 'Computer and information sciences',\n",
       "       'Mathematics and statistics',\n",
       "       'Physical sciences, geosciences, atmospheric, and ocean sciences',\n",
       "       'Astronomy and astrophysics', 'Chemistry, except biochemistry',\n",
       "       'Geosciences, atmospheric, and ocean sciences', 'Physics', 'Psychology',\n",
       "       'Social sciences', 'Economics', 'Political science and government',\n",
       "       'Sociology, demography, and population studies',\n",
       "       'Other social sciences', 'Engineering',\n",
       "       'Aerospace, aeronautical, and astronautical engineering',\n",
       "       'Chemical engineering', 'Civil engineering',\n",
       "       'Electrical and computer engineering', 'Mechanical engineering',\n",
       "       'Metallurgical and materials engineering', 'Other engineering',\n",
       "       'Health'],\n",
       "      dtype='object', name='Field of study')"
      ]
     },
     "execution_count": 8,
     "metadata": {},
     "output_type": "execute_result"
    }
   ],
   "source": [
    "salariesDF.index"
   ]
  },
  {
   "cell_type": "markdown",
   "id": "acute-stream",
   "metadata": {},
   "source": [
    "Looking at the web site, \"zoology\" is a subcategory of \"biological...sciences\"\n",
    "\n",
    "\"political sciences\" is a sub of \"social sciences\"\n",
    "\n",
    "\"Astronomy and astrophysics\" is a sub of \"Physical sciences, geosciences, atmospheric, and ocean sciences\"\n",
    "\n",
    "\"Aerospace, aeronautical, and astronautical engineering\" is a sub of \"engineering\"\n"
   ]
  }
 ],
 "metadata": {
  "kernelspec": {
   "display_name": "Python 3",
   "language": "python",
   "name": "python3"
  },
  "language_info": {
   "codemirror_mode": {
    "name": "ipython",
    "version": 3
   },
   "file_extension": ".py",
   "mimetype": "text/x-python",
   "name": "python",
   "nbconvert_exporter": "python",
   "pygments_lexer": "ipython3",
   "version": "3.8.5"
  }
 },
 "nbformat": 4,
 "nbformat_minor": 5
}
